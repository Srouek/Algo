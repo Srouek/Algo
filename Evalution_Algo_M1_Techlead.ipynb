{
  "nbformat": 4,
  "nbformat_minor": 0,
  "metadata": {
    "colab": {
      "name": "Evalution_Algo_M1_Techlead.ipynb",
      "provenance": [],
      "authorship_tag": "ABX9TyNbW5B36Dnpn2sbsFMiT883",
      "include_colab_link": true
    },
    "kernelspec": {
      "name": "python3",
      "display_name": "Python 3"
    }
  },
  "cells": [
    {
      "cell_type": "markdown",
      "metadata": {
        "id": "view-in-github",
        "colab_type": "text"
      },
      "source": [
        "<a href=\"https://colab.research.google.com/github/Srouek/Algo/blob/main/Evalution_Algo_M1_Techlead.ipynb\" target=\"_parent\"><img src=\"https://colab.research.google.com/assets/colab-badge.svg\" alt=\"Open In Colab\"/></a>"
      ]
    },
    {
      "cell_type": "markdown",
      "metadata": {
        "id": "fJj_4JBppBG4"
      },
      "source": [
        "# Evalution Algo\n",
        "\n",
        "\n",
        "\n",
        "\n",
        "\n",
        "Problème 6 : Tri\n",
        "Ecrire un algorithme triant un tableau donné par sélection. L'algorithme va commencer par\n",
        "chercher l'élément de plus petite valeur dans le tableau, on le place en tête du tableau et on\n",
        "recommence avec le tableau moins la première case. Vous pouvez notamment utiliser la\n",
        "fonction minimum dans l'exercice précédent.\n",
        "\n",
        "Problème 8 : Valeur du plus petit doublon\n",
        "Ecrire un algorithme qui donne la valeur du premier doublon dans une liste.\n",
        "Par exemple pour la liste l = [1; 2; 3; 6; 5; 3; 7; 2] l'algorithme sortira 3.\n",
        "Problème 9 : Multiplication matricielle\n",
        "En cours, nous avons vu les matrices, nous avons vu aussi les opérations mathématiques que\n",
        "nous pouvons effectuer sur ces objets.\n",
        "Ecrire un algorithme qui fait la multiplication entre deux matrice carré A et B. Le produit de\n",
        "deux matrices,\n",
        "𝐴 = 􁉀\n",
        "1 2\n",
        "3 4\n",
        "􁉁 et une matrice 𝐵 = 􁉀\n",
        "1 3\n",
        "2 4\n",
        "􁉁 est tel que (𝐴. 𝐵) = 􁉀\n",
        "5 11\n",
        "11 5\n",
        "􁉁\n",
        "Problème 10 : POO\n",
        "Expliquer ce qu'est la programmation orientée objet, le concept d'héritage, de\n",
        "polymorphisme ainsi que la différence avec la programmation dite plus \"classique\" et donner\n",
        "des exemples."
      ]
    },
    {
      "cell_type": "markdown",
      "metadata": {
        "id": "5M64AB28pOMh"
      },
      "source": [
        "### Problème 1 : Carré\n",
        "Ecrire une fonction en python qui demande un nombre à l'utilisateur et qui affiche le carré de\n",
        "ce nombre."
      ]
    },
    {
      "cell_type": "code",
      "metadata": {
        "id": "l5n_FZXgourq",
        "outputId": "7d96c115-4624-4af7-eb89-7735715989a1",
        "colab": {
          "base_uri": "https://localhost:8080/"
        }
      },
      "source": [
        "def carre(nombre):\n",
        "  return nombre**2\n",
        "\n",
        "carre(2)"
      ],
      "execution_count": 2,
      "outputs": [
        {
          "output_type": "execute_result",
          "data": {
            "text/plain": [
              "4"
            ]
          },
          "metadata": {
            "tags": []
          },
          "execution_count": 2
        }
      ]
    },
    {
      "cell_type": "markdown",
      "metadata": {
        "id": "t45AcgnKpx_-"
      },
      "source": [
        "### Problème 2 : Produit\n",
        "Ecrire une fonction en python qui prend deux nombres et informe en suite si leur produit est\n",
        "négatif ou positif ou nul. Attention : il n'est pas nécessaire de renvoyer le produit des deux\n",
        "nombres."
      ]
    },
    {
      "cell_type": "code",
      "metadata": {
        "id": "u8crPz7bp4UU",
        "outputId": "c3b5eb34-5420-4723-bdb0-76490a507d8f",
        "colab": {
          "base_uri": "https://localhost:8080/"
        }
      },
      "source": [
        "def produit(nb1,nb2):\n",
        "  return nb1*nb2\n",
        "produit(5,6)"
      ],
      "execution_count": 3,
      "outputs": [
        {
          "output_type": "execute_result",
          "data": {
            "text/plain": [
              "30"
            ]
          },
          "metadata": {
            "tags": []
          },
          "execution_count": 3
        }
      ]
    },
    {
      "cell_type": "markdown",
      "metadata": {
        "id": "ZrKJRlTtqNbE"
      },
      "source": [
        "### Problème 3 : Somme\n",
        "Ecrire une fonction en python qui prend un nombre de départ disons k, et qui calcule la\n",
        "somme des entiers jusqu’à ce nombre, noté Σ􀯞􀬾􀬵􀬴 𝑖\n",
        "􀯜􀭀􀯞 . Par exemple, si k = 5, la fonction doit\n",
        "renvoyer : 15."
      ]
    },
    {
      "cell_type": "code",
      "metadata": {
        "id": "OIe3-_KPqPlU",
        "outputId": "cdb4da9b-3323-4989-c7f3-330844d2c713",
        "colab": {
          "base_uri": "https://localhost:8080/"
        }
      },
      "source": [
        "def somme(val):\n",
        "  somme = 0\n",
        "  for i in range(val+1): # range compte jusqu'à la valeur max exclu\n",
        "    somme += i\n",
        "  return somme\n",
        "somme(5)"
      ],
      "execution_count": 4,
      "outputs": [
        {
          "output_type": "execute_result",
          "data": {
            "text/plain": [
              "15"
            ]
          },
          "metadata": {
            "tags": []
          },
          "execution_count": 4
        }
      ]
    },
    {
      "cell_type": "markdown",
      "metadata": {
        "id": "5kB9ia14quHU"
      },
      "source": [
        "Problème 4 : FacProduct\n",
        "Ecrire un algorithme qui, à partir de deux tableaux précédemment saisis calcule le\n",
        "'FacProduct' des deux tableaux. Pour calculer le 'FacProduct', il faut multiplier chaque\n",
        "élément du tableau1 par chaque élément du tableau2, et additionner le tout.\n",
        "Par exemple, soient deux tableaux l1; l2, où l1 = [1; 2; 3] et l2 = [1; 2] l'algorithme doit\n",
        "renvoyer 18."
      ]
    },
    {
      "cell_type": "code",
      "metadata": {
        "id": "B3YVF-ttqvsD",
        "outputId": "643993b9-16d0-4d10-aa30-b321ed912eed",
        "colab": {
          "base_uri": "https://localhost:8080/"
        }
      },
      "source": [
        "def facProduct(tab1, tab2):\n",
        "  result = 0\n",
        "  for i in range(0,len(tab1)-1):\n",
        "    result = result + tab1[i]*tab2[i]\n",
        "  return result\n",
        "\n",
        "facProduct([1,2,3], [1,2])"
      ],
      "execution_count": 25,
      "outputs": [
        {
          "output_type": "execute_result",
          "data": {
            "text/plain": [
              "0"
            ]
          },
          "metadata": {
            "tags": []
          },
          "execution_count": 25
        }
      ]
    },
    {
      "cell_type": "markdown",
      "metadata": {
        "id": "iU9HwhqVrzzd"
      },
      "source": [
        "### Problème 5 : Minimum\n",
        "Ecrire un algorithme retournant le minimum d'un tableau donné."
      ]
    },
    {
      "cell_type": "code",
      "metadata": {
        "id": "Ne04s-dBr2OF",
        "outputId": "10febde8-3afc-4a91-aaeb-13317b073600",
        "colab": {
          "base_uri": "https://localhost:8080/"
        }
      },
      "source": [
        "def min(tab):\n",
        "  min = tab[0]\n",
        "  for i in range(len(tab)):\n",
        "    if tab[i] < min:\n",
        "      min = tab[i]\n",
        "      index = i\n",
        "  return min\n",
        "\n",
        "min([9,5,1])"
      ],
      "execution_count": 7,
      "outputs": [
        {
          "output_type": "execute_result",
          "data": {
            "text/plain": [
              "(1, 2)"
            ]
          },
          "metadata": {
            "tags": []
          },
          "execution_count": 7
        }
      ]
    },
    {
      "cell_type": "markdown",
      "metadata": {
        "id": "6YFnO5Xbse9Z"
      },
      "source": [
        "### Problème 6 : Tri\n",
        "Ecrire un algorithme triant un tableau donné par sélection. L'algorithme va commencer par\n",
        "chercher l'élément de plus petite valeur dans le tableau, on le place en tête du tableau et on\n",
        "recommence avec le tableau moins la première case. Vous pouvez notamment utiliser la\n",
        "fonction minimum dans l'exercice précédent."
      ]
    },
    {
      "cell_type": "code",
      "metadata": {
        "id": "lQfpZSdnsiK5",
        "outputId": "de9e7f9f-b354-4b6e-f13d-7743e3ae7c58",
        "colab": {
          "base_uri": "https://localhost:8080/",
          "height": 316
        }
      },
      "source": [
        "def tri(tab):\n",
        "  newtab = []\n",
        "  for i in tab:\n",
        "    if tab:\n",
        "      newtab.append(tab.pop(min(tab)))\n",
        "  return newtab\n",
        "\n",
        "  \n",
        "tri([45,12,77])"
      ],
      "execution_count": 20,
      "outputs": [
        {
          "output_type": "error",
          "ename": "TypeError",
          "evalue": "ignored",
          "traceback": [
            "\u001b[0;31m---------------------------------------------------------------------------\u001b[0m",
            "\u001b[0;31mTypeError\u001b[0m                                 Traceback (most recent call last)",
            "\u001b[0;32m<ipython-input-20-33497cd7d593>\u001b[0m in \u001b[0;36m<module>\u001b[0;34m()\u001b[0m\n\u001b[1;32m      5\u001b[0m       \u001b[0mnewtab\u001b[0m\u001b[0;34m.\u001b[0m\u001b[0mappend\u001b[0m\u001b[0;34m(\u001b[0m\u001b[0mtab\u001b[0m\u001b[0;34m.\u001b[0m\u001b[0mpop\u001b[0m\u001b[0;34m(\u001b[0m\u001b[0mmin\u001b[0m\u001b[0;34m(\u001b[0m\u001b[0mtab\u001b[0m\u001b[0;34m)\u001b[0m\u001b[0;34m)\u001b[0m\u001b[0;34m)\u001b[0m\u001b[0;34m\u001b[0m\u001b[0;34m\u001b[0m\u001b[0m\n\u001b[1;32m      6\u001b[0m   \u001b[0;32mreturn\u001b[0m \u001b[0mnewtab\u001b[0m\u001b[0;34m\u001b[0m\u001b[0;34m\u001b[0m\u001b[0m\n\u001b[0;32m----> 7\u001b[0;31m \u001b[0mtri\u001b[0m\u001b[0;34m(\u001b[0m\u001b[0;34m[\u001b[0m\u001b[0;36m45\u001b[0m\u001b[0;34m,\u001b[0m\u001b[0;36m12\u001b[0m\u001b[0;34m,\u001b[0m\u001b[0;36m77\u001b[0m\u001b[0;34m]\u001b[0m\u001b[0;34m)\u001b[0m\u001b[0;34m\u001b[0m\u001b[0;34m\u001b[0m\u001b[0m\n\u001b[0m",
            "\u001b[0;32m<ipython-input-20-33497cd7d593>\u001b[0m in \u001b[0;36mtri\u001b[0;34m(tab)\u001b[0m\n\u001b[1;32m      3\u001b[0m   \u001b[0;32mfor\u001b[0m \u001b[0mi\u001b[0m \u001b[0;32min\u001b[0m \u001b[0mtab\u001b[0m\u001b[0;34m:\u001b[0m\u001b[0;34m\u001b[0m\u001b[0;34m\u001b[0m\u001b[0m\n\u001b[1;32m      4\u001b[0m     \u001b[0;32mif\u001b[0m \u001b[0mtab\u001b[0m\u001b[0;34m:\u001b[0m\u001b[0;34m\u001b[0m\u001b[0;34m\u001b[0m\u001b[0m\n\u001b[0;32m----> 5\u001b[0;31m       \u001b[0mnewtab\u001b[0m\u001b[0;34m.\u001b[0m\u001b[0mappend\u001b[0m\u001b[0;34m(\u001b[0m\u001b[0mtab\u001b[0m\u001b[0;34m.\u001b[0m\u001b[0mpop\u001b[0m\u001b[0;34m(\u001b[0m\u001b[0mmin\u001b[0m\u001b[0;34m(\u001b[0m\u001b[0mtab\u001b[0m\u001b[0;34m)\u001b[0m\u001b[0;34m)\u001b[0m\u001b[0;34m)\u001b[0m\u001b[0;34m\u001b[0m\u001b[0;34m\u001b[0m\u001b[0m\n\u001b[0m\u001b[1;32m      6\u001b[0m   \u001b[0;32mreturn\u001b[0m \u001b[0mnewtab\u001b[0m\u001b[0;34m\u001b[0m\u001b[0;34m\u001b[0m\u001b[0m\n\u001b[1;32m      7\u001b[0m \u001b[0mtri\u001b[0m\u001b[0;34m(\u001b[0m\u001b[0;34m[\u001b[0m\u001b[0;36m45\u001b[0m\u001b[0;34m,\u001b[0m\u001b[0;36m12\u001b[0m\u001b[0;34m,\u001b[0m\u001b[0;36m77\u001b[0m\u001b[0;34m]\u001b[0m\u001b[0;34m)\u001b[0m\u001b[0;34m\u001b[0m\u001b[0;34m\u001b[0m\u001b[0m\n",
            "\u001b[0;31mTypeError\u001b[0m: 'tuple' object cannot be interpreted as an integer"
          ]
        }
      ]
    },
    {
      "cell_type": "markdown",
      "metadata": {
        "id": "UYYxhJtTu8FA"
      },
      "source": [
        "### Problème 7 : Carré & listes\n",
        "Ecrire un algorithme qui prend une liste en entré et qui renvoie une liste contenant le carré de\n",
        "chaque élément de la liste passée en entré. Veuillez utiliser la fonction définie dans le\n",
        "problème 1."
      ]
    },
    {
      "cell_type": "code",
      "metadata": {
        "id": "-3QghvD9xkk_"
      },
      "source": [
        ""
      ],
      "execution_count": null,
      "outputs": []
    }
  ]
}